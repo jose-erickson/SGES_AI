{
 "cells": [
  {
   "cell_type": "code",
   "execution_count": 1,
   "metadata": {},
   "outputs": [],
   "source": [
    "import pandas as pd\n",
    "%matplotlib inline\n",
    "import matplotlib.pyplot as plt\n"
   ]
  },
  {
   "cell_type": "code",
   "execution_count": 2,
   "metadata": {},
   "outputs": [
    {
     "name": "stdout",
     "output_type": "stream",
     "text": [
      "Loaded 453 records\n",
      "Index(['id', 'Sentiment', 'Category', 'Type', 'Sub Category',\n",
      "       'Machine Translation (beta): English', 'Detected Language',\n",
      "       'Action Field', 'Topic (Problem statement)', 'Tag 1', 'Tag 2', 'Tag 3',\n",
      "       'Suggestion (evtl. own wording)', '6 Action Fields'],\n",
      "      dtype='object')\n"
     ]
    }
   ],
   "source": [
    "datafile = '/home/z0017wrp/work/projects/sges_sop_it/first analysis/Comment_SOP IT_Customer Value_Veronika_with tags.xlsx'\n",
    "data = pd.read_excel(datafile)\n",
    "\n",
    "print(f'Loaded {data.shape[0]} records')\n",
    "print(data.columns)"
   ]
  },
  {
   "cell_type": "code",
   "execution_count": 3,
   "metadata": {},
   "outputs": [
    {
     "data": {
      "text/plain": [
       "en    243\n",
       "de    127\n",
       "pt     62\n",
       "es     13\n",
       "it      2\n",
       "fr      2\n",
       "zh      2\n",
       "ro      1\n",
       "Name: Detected Language, dtype: int64"
      ]
     },
     "execution_count": 3,
     "metadata": {},
     "output_type": "execute_result"
    }
   ],
   "source": [
    "data['Detected Language'].value_counts()"
   ]
  },
  {
   "cell_type": "code",
   "execution_count": 4,
   "metadata": {},
   "outputs": [
    {
     "data": {
      "text/plain": [
       "Corporate Culture & Working environment    281\n",
       "Operational Excellence                      61\n",
       "Personal & professional development         33\n",
       "Leadership behavior                         16\n",
       "Strategy & Direction                         7\n",
       "Health, Comp&Ben, Work-Life Balance          2\n",
       "Name: Action Field, dtype: int64"
      ]
     },
     "execution_count": 4,
     "metadata": {},
     "output_type": "execute_result"
    }
   ],
   "source": [
    "data['Action Field'].value_counts()"
   ]
  },
  {
   "cell_type": "code",
   "execution_count": 5,
   "metadata": {},
   "outputs": [
    {
     "data": {
      "text/plain": [
       "<matplotlib.axes._subplots.AxesSubplot at 0x7fdb15db6198>"
      ]
     },
     "execution_count": 5,
     "metadata": {},
     "output_type": "execute_result"
    },
    {
     "data": {
      "image/png": "[encoded data removed]",
      "text/plain": [
       "<Figure size 432x288 with 1 Axes>"
      ]
     },
     "metadata": {
      "needs_background": "light"
     },
     "output_type": "display_data"
    }
   ],
   "source": [
    "# distribution of text length in chars\n",
    "data['text_length_chars'] = data.apply(lambda row: len(str(row['Machine Translation (beta): English'])), axis=1)\n",
    "\n",
    "data.text_length_chars.plot.hist(bins=50)"
   ]
  },
  {
   "cell_type": "code",
   "execution_count": 6,
   "metadata": {},
   "outputs": [
    {
     "data": {
      "text/plain": [
       "<matplotlib.axes._subplots.AxesSubplot at 0x7fdb13cd6400>"
      ]
     },
     "execution_count": 6,
     "metadata": {},
     "output_type": "execute_result"
    },
    {
     "data": {
      "image/png": "[encoded data removed]",
      "text/plain": [
       "<Figure size 432x288 with 1 Axes>"
      ]
     },
     "metadata": {
      "needs_background": "light"
     },
     "output_type": "display_data"
    }
   ],
   "source": [
    "# distribution of text length in words\n",
    "data['text_length_words'] = data.apply(lambda row: len(str(row['Machine Translation (beta): English']).split(' ')), axis=1)\n",
    "\n",
    "data.text_length_words.plot.hist(bins=50)"
   ]
  },
  {
   "cell_type": "code",
   "execution_count": 7,
   "metadata": {},
   "outputs": [
    {
     "data": {
      "text/plain": [
       "Agile working               188\n",
       "Collaboration                86\n",
       "Processes                    59\n",
       "Business Value               52\n",
       "Clear expectations           47\n",
       "Change management            46\n",
       "Customer proximity           44\n",
       "Capacity                     44\n",
       "Culture / Atmosphere         42\n",
       "Best practices               41\n",
       "Direct communication         39\n",
       "Operational excellence       34\n",
       "Assign responsibilities      31\n",
       "Continuous improvement       30\n",
       "Info dissemination           30\n",
       "Team management              28\n",
       "Training portfolio           25\n",
       "Tools                        22\n",
       "Innovation                   21\n",
       "Organization structure       20\n",
       "Motivation                   19\n",
       "Business understanding       18\n",
       "Customer way of working      18\n",
       "Bureaucracy                  15\n",
       "Decision making              15\n",
       "Workload                     15\n",
       "Automation                   14\n",
       "Quality of leadership        14\n",
       "Efficiency of meetings       13\n",
       "Team empowerment             12\n",
       "Knowledge sharing            12\n",
       "Personal development         10\n",
       "Regions                       8\n",
       "Technical training            8\n",
       "Internal hiring               5\n",
       "Professional development      4\n",
       "Relevant skills               3\n",
       "Language                      1\n",
       "Access to training            1\n",
       "                              1\n",
       "dtype: int64"
      ]
     },
     "execution_count": 7,
     "metadata": {},
     "output_type": "execute_result"
    }
   ],
   "source": [
    "# Distribution of tags, taking all tags (up to three) from each document\n",
    "\n",
    "all_tags = pd.concat([data['Tag 1'], data['Tag 2'], data['Tag 3']])\n",
    "\n",
    "all_tags.value_counts()"
   ]
  }
 ],
 "metadata": {
  "kernelspec": {
   "display_name": "Python 3",
   "language": "python",
   "name": "python3"
  },
  "language_info": {
   "codemirror_mode": {
    "name": "ipython",
    "version": 3
   },
   "file_extension": ".py",
   "mimetype": "text/x-python",
   "name": "python",
   "nbconvert_exporter": "python",
   "pygments_lexer": "ipython3",
   "version": "3.6.10"
  }
 },
 "nbformat": 4,
 "nbformat_minor": 4
}
